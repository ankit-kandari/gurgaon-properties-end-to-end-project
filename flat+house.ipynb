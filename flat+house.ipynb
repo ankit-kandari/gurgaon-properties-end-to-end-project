{
 "cells": [
  {
   "cell_type": "code",
   "execution_count": 17,
   "id": "acdc95cf",
   "metadata": {},
   "outputs": [],
   "source": [
    "import pandas as pd\n",
    "import numpy as np"
   ]
  },
  {
   "cell_type": "code",
   "execution_count": 18,
   "id": "e0b7711f",
   "metadata": {},
   "outputs": [],
   "source": [
    "df1 = pd.read_csv(\"flats_clean.csv\")"
   ]
  },
  {
   "cell_type": "code",
   "execution_count": 19,
   "id": "fc2ee0ce",
   "metadata": {},
   "outputs": [],
   "source": [
    "df2 = pd.read_csv(\"house_cleaned.csv\")"
   ]
  },
  {
   "cell_type": "code",
   "execution_count": 20,
   "id": "005ac3bd",
   "metadata": {},
   "outputs": [
    {
     "name": "stdout",
     "output_type": "stream",
     "text": [
      "(2997, 20)\n",
      "(963, 19)\n"
     ]
    }
   ],
   "source": [
    "print(df1.shape)\n",
    "print(df2.shape)"
   ]
  },
  {
   "cell_type": "code",
   "execution_count": 21,
   "id": "bfd6a951",
   "metadata": {},
   "outputs": [],
   "source": [
    "df = pd.concat([df1,df2],ignore_index = True)"
   ]
  },
  {
   "cell_type": "code",
   "execution_count": 22,
   "id": "2233ec2d",
   "metadata": {},
   "outputs": [
    {
     "data": {
      "text/plain": [
       "(3960, 20)"
      ]
     },
     "execution_count": 22,
     "metadata": {},
     "output_type": "execute_result"
    }
   ],
   "source": [
    "df.shape"
   ]
  },
  {
   "cell_type": "code",
   "execution_count": 23,
   "id": "49189982",
   "metadata": {},
   "outputs": [],
   "source": [
    "df.to_csv(\"properties.csv\")"
   ]
  },
  {
   "cell_type": "code",
   "execution_count": null,
   "id": "dc7559b6",
   "metadata": {},
   "outputs": [],
   "source": []
  }
 ],
 "metadata": {
  "kernelspec": {
   "display_name": "Python 3 (ipykernel)",
   "language": "python",
   "name": "python3"
  },
  "language_info": {
   "codemirror_mode": {
    "name": "ipython",
    "version": 3
   },
   "file_extension": ".py",
   "mimetype": "text/x-python",
   "name": "python",
   "nbconvert_exporter": "python",
   "pygments_lexer": "ipython3",
   "version": "3.11.4"
  }
 },
 "nbformat": 4,
 "nbformat_minor": 5
}
